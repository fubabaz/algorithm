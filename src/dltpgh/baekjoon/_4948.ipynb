{
 "cells": [
  {
   "cell_type": "code",
   "execution_count": null,
   "id": "91552d96",
   "metadata": {},
   "outputs": [],
   "source": [
    "import math\n",
    "\n",
    "array = [True for i in range(123456*2+1)]\n",
    "\n",
    "for i in range(2, int(math.sqrt(2*123456)) + 1):\n",
    "    if array[i] == True:\n",
    "        j = 2\n",
    "        while i*j <= 2*123456:\n",
    "            array[i*j] = False\n",
    "            j += 1\n",
    "\n",
    "while True:\n",
    "    a = int(input())\n",
    "    if a == 0:\n",
    "        break\n",
    "    else:\n",
    "        print(array[a+1:2*a+1].count(True))"
   ]
  }
 ],
 "metadata": {
  "kernelspec": {
   "display_name": "Python 3 (ipykernel)",
   "language": "python",
   "name": "python3"
  },
  "language_info": {
   "codemirror_mode": {
    "name": "ipython",
    "version": 3
   },
   "file_extension": ".py",
   "mimetype": "text/x-python",
   "name": "python",
   "nbconvert_exporter": "python",
   "pygments_lexer": "ipython3",
   "version": "3.9.12"
  }
 },
 "nbformat": 4,
 "nbformat_minor": 5
}
