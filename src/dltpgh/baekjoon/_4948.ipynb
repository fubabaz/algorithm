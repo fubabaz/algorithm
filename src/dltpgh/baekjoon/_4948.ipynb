{
 "cells": [
  {
   "cell_type": "code",
   "execution_count": null,
   "id": "ce499d8e",
   "metadata": {},
   "outputs": [],
   "source": [
    "import math\n",
    "\n",
    "array = [True for i in range(123456*2+1)] # 최대 2N(123,456 * 2)까지 리스트 정렬\n",
    "\n",
    "# 최대 2N(123,456 * 2)만큼 소수 리스트에 미리 저장\n",
    "for i in range(2, int(math.sqrt(2*123456)) + 1):\n",
    "    if array[i] == True:\n",
    "        j = 2\n",
    "        while i*j <= 2*123456:\n",
    "            array[i*j] = False\n",
    "            j += 1\n",
    "\n",
    "# 정수 입력 후 N보다 크고 2N보다 작거나 같은 소수 출력문\n",
    "while True:\n",
    "    a = int(input())\n",
    "    if a == 0: # N = 0일 때 종료\n",
    "        break\n",
    "    else:\n",
    "        print(array[a+1:2*a+1].count(True)) # array[a+1:2*a+1]만큼의 소수 개수 출력문"
   ]
  }
 ],
 "metadata": {
  "kernelspec": {
   "display_name": "Python 3 (ipykernel)",
   "language": "python",
   "name": "python3"
  },
  "language_info": {
   "codemirror_mode": {
    "name": "ipython",
    "version": 3
   },
   "file_extension": ".py",
   "mimetype": "text/x-python",
   "name": "python",
   "nbconvert_exporter": "python",
   "pygments_lexer": "ipython3",
   "version": "3.9.12"
  }
 },
 "nbformat": 4,
 "nbformat_minor": 5
}
