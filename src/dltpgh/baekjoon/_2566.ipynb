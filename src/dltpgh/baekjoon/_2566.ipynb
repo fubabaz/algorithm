{
 "cells": [
  {
   "cell_type": "code",
   "execution_count": 2,
   "id": "3c87f132",
   "metadata": {},
   "outputs": [],
   "source": [
    "max_num = 0\n",
    "x = 0\n",
    "y = 0\n",
    "\n",
    "for i in range(9):\n",
    "    a = list(map(int, input().split()))\n",
    "    if max_num < max(a):\n",
    "        max_num = max(a)\n",
    "        x = i\n",
    "        y = a.index(max_num)\n",
    "\n",
    "print(max_num)\n",
    "print(x+1, y+1)"
   ]
  },
  {
   "cell_type": "code",
   "execution_count": null,
   "id": "4e31c6ae",
   "metadata": {},
   "outputs": [],
   "source": []
  }
 ],
 "metadata": {
  "kernelspec": {
   "display_name": "Python 3 (ipykernel)",
   "language": "python",
   "name": "python3"
  },
  "language_info": {
   "codemirror_mode": {
    "name": "ipython",
    "version": 3
   },
   "file_extension": ".py",
   "mimetype": "text/x-python",
   "name": "python",
   "nbconvert_exporter": "python",
   "pygments_lexer": "ipython3",
   "version": "3.9.12"
  }
 },
 "nbformat": 4,
 "nbformat_minor": 5
}
