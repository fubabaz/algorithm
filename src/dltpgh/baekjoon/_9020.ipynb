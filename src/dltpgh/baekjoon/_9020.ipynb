{
 "cells": [
  {
   "cell_type": "code",
   "execution_count": 11,
   "id": "5d8ac227",
   "metadata": {},
   "outputs": [
    {
     "name": "stdout",
     "output_type": "stream",
     "text": [
      "3\n",
      "8\n",
      "3 5\n",
      "10\n",
      "5 5\n",
      "16\n",
      "5 11\n"
     ]
    }
   ],
   "source": [
    "import math\n",
    "\n",
    "array = [True for i in range(10001)] # 10,000보다 작은 수의 소수(True)인 것으로 초기화\n",
    "array[1] = False\n",
    "\n",
    "for i in range(2, int(math.sqrt(10001)) + 1): # 2부터 n의 제곱근까지의 모든 수를 확인\n",
    "    if array[i] == True: # i가 소수인 경우 (남은 수인 경우)\n",
    "        j = 2 # i를 제외한 i의 모든 배수를 지우기\n",
    "        while i * j <= 10000:\n",
    "            array[i * j] = False\n",
    "            j += 1\n",
    "            \n",
    "n = int(input()) # 테스트 케이스 개수 입력\n",
    "for _ in range(n): # 테스트 케이스 개수만큼 반복\n",
    "    num = int(input()) # 골드바흐 파티션 입력\n",
    "    \n",
    "    a = num // 2 # 파티션의 중간값으로 설정\n",
    "    b = a \n",
    "    for _ in range(10000):\n",
    "        if array[a] and array[b]:\n",
    "            # a, b가 모두 소수일 경우 a, b 출력\n",
    "            print(a, b)\n",
    "            break\n",
    "        # a, b가 소수가 아니라면 a를 1씩 줄이고 b를 1씩 늘리면서 값 뽑기\n",
    "        a -= 1\n",
    "        b += 1"
   ]
  },
  {
   "cell_type": "code",
   "execution_count": null,
   "id": "d7865d31",
   "metadata": {},
   "outputs": [],
   "source": []
  }
 ],
 "metadata": {
  "kernelspec": {
   "display_name": "Python 3 (ipykernel)",
   "language": "python",
   "name": "python3"
  },
  "language_info": {
   "codemirror_mode": {
    "name": "ipython",
    "version": 3
   },
   "file_extension": ".py",
   "mimetype": "text/x-python",
   "name": "python",
   "nbconvert_exporter": "python",
   "pygments_lexer": "ipython3",
   "version": "3.9.12"
  }
 },
 "nbformat": 4,
 "nbformat_minor": 5
}
