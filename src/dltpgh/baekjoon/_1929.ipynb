{
 "cells": [
  {
   "cell_type": "code",
   "execution_count": null,
   "id": "3f39dd47",
   "metadata": {},
   "outputs": [],
   "source": [
    "import math\n",
    "\n",
    "M, N = map(int, input().split()) # \n",
    "array = [True for i in range(N + 1)] # 처음엔 모든 수가 소수(True)인 것으로 초기화\n",
    "array[1] = False\n",
    "\n",
    "\n",
    "for i in range(2, int(math.sqrt(N)) + 1): # 2부터 n의 제곱근까지의 모든 수를 확인\n",
    "    if array[i] == True: # i가 소수인 경우 (남은 수인 경우)\n",
    "        # i를 제외한 i의 모든 배수를 지우기\n",
    "        j = 2 \n",
    "        while i * j <= N:\n",
    "            array[i * j] = False\n",
    "            j += 1\n",
    "\n",
    "# 소수 출력\n",
    "for i in range(M, N + 1):\n",
    "    if array[i]:\n",
    "        print(i, end='\\n')"
   ]
  }
 ],
 "metadata": {
  "kernelspec": {
   "display_name": "Python 3 (ipykernel)",
   "language": "python",
   "name": "python3"
  },
  "language_info": {
   "codemirror_mode": {
    "name": "ipython",
    "version": 3
   },
   "file_extension": ".py",
   "mimetype": "text/x-python",
   "name": "python",
   "nbconvert_exporter": "python",
   "pygments_lexer": "ipython3",
   "version": "3.9.12"
  }
 },
 "nbformat": 4,
 "nbformat_minor": 5
}
