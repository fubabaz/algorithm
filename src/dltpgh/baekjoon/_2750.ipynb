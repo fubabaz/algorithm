{
 "cells": [
  {
   "cell_type": "code",
   "execution_count": 6,
   "id": "6d6e0f9b",
   "metadata": {},
   "outputs": [
    {
     "name": "stdout",
     "output_type": "stream",
     "text": [
      "5\n",
      "5\n",
      "2\n",
      "3\n",
      "4\n",
      "1\n",
      "1\n",
      "2\n",
      "3\n",
      "4\n",
      "5\n"
     ]
    }
   ],
   "source": [
    "a = int(input())\n",
    "\n",
    "num_list = []\n",
    "\n",
    "for i in range(a):\n",
    "    num_list.append(int(input()))\n",
    "\n",
    "num_list.sort()    \n",
    "    \n",
    "for j in range(a):\n",
    "    print(num_list[j])"
   ]
  },
  {
   "cell_type": "code",
   "execution_count": null,
   "id": "9deee382",
   "metadata": {},
   "outputs": [],
   "source": []
  }
 ],
 "metadata": {
  "kernelspec": {
   "display_name": "Python 3 (ipykernel)",
   "language": "python",
   "name": "python3"
  },
  "language_info": {
   "codemirror_mode": {
    "name": "ipython",
    "version": 3
   },
   "file_extension": ".py",
   "mimetype": "text/x-python",
   "name": "python",
   "nbconvert_exporter": "python",
   "pygments_lexer": "ipython3",
   "version": "3.9.13"
  }
 },
 "nbformat": 4,
 "nbformat_minor": 5
}
